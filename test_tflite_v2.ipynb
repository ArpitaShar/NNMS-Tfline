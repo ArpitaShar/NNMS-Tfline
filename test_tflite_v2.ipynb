{
 "cells": [
  {
   "cell_type": "code",
   "execution_count": null,
   "id": "61dd7e0f",
   "metadata": {},
   "outputs": [],
   "source": [
    "#Imports & Configuration\n",
    "\n",
    "import numpy as np\n",
    "import pandas as pd\n",
    "from pathlib import Path\n",
    "from PIL import Image\n",
    "import tensorflow as tf\n",
    "from tqdm import tqdm\n",
    "\n",
    "# --- CONFIGURATION ---\n",
    "TFLITE_MODEL_PATH = Path(\"mobile_TEST.tflite\")\n",
    "IMAGE_FOLDER       = Path(r\"C:\\Users\\arpitasharma2\\OneDrive - Deloitte (O365D)\\Desktop\\DIU\\SNAP\\SNAP\")\n",
    "OUTPUT_CSV         = Path(\"tflite_predictions.csv\")\n",
    "IMAGE_SIZE         = (256, 256)       # must match model input\n",
    "THRESHOLD          = 0.85             # recaptured probability threshold\n",
    "CLASS_NAMES        = [\"not_recaptured\", \"recaptured\"]  # adjust if your labels differ\n"
   ]
  },
  {
   "cell_type": "code",
   "execution_count": null,
   "id": "4e4b8b88",
   "metadata": {},
   "outputs": [
    {
     "name": "stdout",
     "output_type": "stream",
     "text": [
      "TFLite model loaded. Input shape: [  1   3 256 256]\n"
     ]
    }
   ],
   "source": [
    "#Load and initialize the TFLite interpreter\n",
    "\n",
    "interpreter = tf.lite.Interpreter(model_path=str(TFLITE_MODEL_PATH))\n",
    "interpreter.allocate_tensors()\n",
    "\n",
    "# Get I/O tensor details for later\n",
    "input_details  = interpreter.get_input_details()[0]\n",
    "output_details = interpreter.get_output_details()[0]\n",
    "\n",
    "print(\"TFLite model loaded. Input shape:\", input_details[\"shape\"])"
   ]
  },
  {
   "cell_type": "code",
   "execution_count": null,
   "id": "561b9bd0",
   "metadata": {},
   "outputs": [
    {
     "name": "stdout",
     "output_type": "stream",
     "text": [
      "Using NCHW data format for TFLite input.\n"
     ]
    }
   ],
   "source": [
    "#Pre-processing & Inference Helpers (handles both NHWC/NCHW)\n",
    "\n",
    "# Determine expected data format:\n",
    "in_shape = input_details[\"shape\"]\n",
    "# if channels dim is second, it's NCHW; if last, NHWC\n",
    "DATA_FORMAT = \"NCHW\" if in_shape[1] == 3 else \"NHWC\"\n",
    "print(\"Using\", DATA_FORMAT, \"data format for TFLite input.\")\n",
    "\n",
    "def preprocess_image(img_path: Path) -> np.ndarray:\n",
    "    \"\"\"Load image, resize, normalize, batch-ify, and transpose if needed.\"\"\"\n",
    "    img = Image.open(img_path).convert(\"RGB\")\n",
    "    img = img.resize(IMAGE_SIZE, Image.BILINEAR)\n",
    "    \n",
    "    arr = np.array(img, dtype=np.float32) / 255.0\n",
    "    # ImageNet normalization\n",
    "    mean = np.array([0.485, 0.456, 0.406], dtype=np.float32)\n",
    "    std  = np.array([0.229, 0.224, 0.225], dtype=np.float32)\n",
    "    arr = (arr - mean) / std\n",
    "    \n",
    "    # add batch dim -> (1, H, W, 3)\n",
    "    arr = np.expand_dims(arr, axis=0)\n",
    "    \n",
    "    if DATA_FORMAT == \"NCHW\":\n",
    "        # transpose to (1, 3, H, W)\n",
    "        arr = np.transpose(arr, (0, 3, 1, 2))\n",
    "    return arr\n",
    "\n",
    "def predict_tflite(img_arr: np.ndarray) -> np.ndarray:\n",
    "    \"\"\"Run the interpreter and return raw logits.\"\"\"\n",
    "    interpreter.set_tensor(input_details[\"index\"], img_arr.astype(input_details[\"dtype\"]))\n",
    "    interpreter.invoke()\n",
    "    return interpreter.get_tensor(output_details[\"index\"])\n",
    "\n",
    "def softmax(logits: np.ndarray) -> np.ndarray:\n",
    "    e = np.exp(logits - np.max(logits, axis=1, keepdims=True))\n",
    "    return e / e.sum(axis=1, keepdims=True)\n"
   ]
  },
  {
   "cell_type": "code",
   "execution_count": null,
   "id": "c01b4fdf",
   "metadata": {},
   "outputs": [
    {
     "name": "stdout",
     "output_type": "stream",
     "text": [
      "Found 8532 images in C:\\Users\\arpitasharma2\\OneDrive - Deloitte (O365D)\\Desktop\\DIU\\SNAP\\SNAP\n"
     ]
    }
   ],
   "source": [
    "#Gather all image files\n",
    "\n",
    "image_paths = []\n",
    "for ext in (\"*.jpg\",\"*.jpeg\",\"*.png\"):\n",
    "    image_paths.extend(IMAGE_FOLDER.glob(ext))\n",
    "image_paths = sorted(image_paths)\n",
    "\n",
    "print(f\"Found {len(image_paths)} images in {IMAGE_FOLDER}\")\n"
   ]
  },
  {
   "cell_type": "code",
   "execution_count": null,
   "id": "632efb4c",
   "metadata": {},
   "outputs": [
    {
     "name": "stderr",
     "output_type": "stream",
     "text": [
      "Predicting: 100%|██████████| 8532/8532 [03:55<00:00, 36.28it/s]\n"
     ]
    }
   ],
   "source": [
    "#Run predictions and collect results\n",
    "\n",
    "records = []\n",
    "for img_path in tqdm(image_paths, desc=\"Predicting\"):\n",
    "    try:\n",
    "        arr    = preprocess_image(img_path)\n",
    "        logits = predict_tflite(arr)\n",
    "        probs  = softmax(logits)[0]           # Shape: (2,)\n",
    "        \n",
    "        recap_prob = float(probs[1])\n",
    "        flag       = int(recap_prob >= THRESHOLD)\n",
    "        pred_cls   = CLASS_NAMES[int(np.argmax(probs))]\n",
    "        \n",
    "        records.append({\n",
    "            \"Image\": str(img_path),\n",
    "            \"Class\": pred_cls,\n",
    "            \"Flag\": flag,\n",
    "            \"Recaptured_Probability\": recap_prob\n",
    "        })\n",
    "    except Exception as e:\n",
    "        print(f\"Error on {img_path.name}: {e}\")\n"
   ]
  },
  {
   "cell_type": "code",
   "execution_count": null,
   "id": "0dfa4366",
   "metadata": {},
   "outputs": [
    {
     "name": "stdout",
     "output_type": "stream",
     "text": [
      "Saved 8532 predictions to tflite_predictions.csv\n",
      "\n"
     ]
    },
    {
     "data": {
      "text/html": [
       "<div>\n",
       "<style scoped>\n",
       "    .dataframe tbody tr th:only-of-type {\n",
       "        vertical-align: middle;\n",
       "    }\n",
       "\n",
       "    .dataframe tbody tr th {\n",
       "        vertical-align: top;\n",
       "    }\n",
       "\n",
       "    .dataframe thead th {\n",
       "        text-align: right;\n",
       "    }\n",
       "</style>\n",
       "<table border=\"1\" class=\"dataframe\">\n",
       "  <thead>\n",
       "    <tr style=\"text-align: right;\">\n",
       "      <th></th>\n",
       "      <th>Image</th>\n",
       "      <th>Class</th>\n",
       "      <th>Flag</th>\n",
       "      <th>Recaptured_Probability</th>\n",
       "    </tr>\n",
       "  </thead>\n",
       "  <tbody>\n",
       "    <tr>\n",
       "      <th>0</th>\n",
       "      <td>C:\\Users\\arpitasharma2\\OneDrive - Deloitte (O3...</td>\n",
       "      <td>not_recaptured</td>\n",
       "      <td>0</td>\n",
       "      <td>0.000004</td>\n",
       "    </tr>\n",
       "    <tr>\n",
       "      <th>1</th>\n",
       "      <td>C:\\Users\\arpitasharma2\\OneDrive - Deloitte (O3...</td>\n",
       "      <td>not_recaptured</td>\n",
       "      <td>0</td>\n",
       "      <td>0.000027</td>\n",
       "    </tr>\n",
       "    <tr>\n",
       "      <th>2</th>\n",
       "      <td>C:\\Users\\arpitasharma2\\OneDrive - Deloitte (O3...</td>\n",
       "      <td>not_recaptured</td>\n",
       "      <td>0</td>\n",
       "      <td>0.000002</td>\n",
       "    </tr>\n",
       "    <tr>\n",
       "      <th>3</th>\n",
       "      <td>C:\\Users\\arpitasharma2\\OneDrive - Deloitte (O3...</td>\n",
       "      <td>not_recaptured</td>\n",
       "      <td>0</td>\n",
       "      <td>0.000020</td>\n",
       "    </tr>\n",
       "    <tr>\n",
       "      <th>4</th>\n",
       "      <td>C:\\Users\\arpitasharma2\\OneDrive - Deloitte (O3...</td>\n",
       "      <td>not_recaptured</td>\n",
       "      <td>0</td>\n",
       "      <td>0.124099</td>\n",
       "    </tr>\n",
       "    <tr>\n",
       "      <th>5</th>\n",
       "      <td>C:\\Users\\arpitasharma2\\OneDrive - Deloitte (O3...</td>\n",
       "      <td>not_recaptured</td>\n",
       "      <td>0</td>\n",
       "      <td>0.000065</td>\n",
       "    </tr>\n",
       "    <tr>\n",
       "      <th>6</th>\n",
       "      <td>C:\\Users\\arpitasharma2\\OneDrive - Deloitte (O3...</td>\n",
       "      <td>not_recaptured</td>\n",
       "      <td>0</td>\n",
       "      <td>0.034404</td>\n",
       "    </tr>\n",
       "    <tr>\n",
       "      <th>7</th>\n",
       "      <td>C:\\Users\\arpitasharma2\\OneDrive - Deloitte (O3...</td>\n",
       "      <td>not_recaptured</td>\n",
       "      <td>0</td>\n",
       "      <td>0.000284</td>\n",
       "    </tr>\n",
       "    <tr>\n",
       "      <th>8</th>\n",
       "      <td>C:\\Users\\arpitasharma2\\OneDrive - Deloitte (O3...</td>\n",
       "      <td>not_recaptured</td>\n",
       "      <td>0</td>\n",
       "      <td>0.000072</td>\n",
       "    </tr>\n",
       "    <tr>\n",
       "      <th>9</th>\n",
       "      <td>C:\\Users\\arpitasharma2\\OneDrive - Deloitte (O3...</td>\n",
       "      <td>not_recaptured</td>\n",
       "      <td>0</td>\n",
       "      <td>0.000034</td>\n",
       "    </tr>\n",
       "  </tbody>\n",
       "</table>\n",
       "</div>"
      ],
      "text/plain": [
       "                                               Image           Class  Flag  \\\n",
       "0  C:\\Users\\arpitasharma2\\OneDrive - Deloitte (O3...  not_recaptured     0   \n",
       "1  C:\\Users\\arpitasharma2\\OneDrive - Deloitte (O3...  not_recaptured     0   \n",
       "2  C:\\Users\\arpitasharma2\\OneDrive - Deloitte (O3...  not_recaptured     0   \n",
       "3  C:\\Users\\arpitasharma2\\OneDrive - Deloitte (O3...  not_recaptured     0   \n",
       "4  C:\\Users\\arpitasharma2\\OneDrive - Deloitte (O3...  not_recaptured     0   \n",
       "5  C:\\Users\\arpitasharma2\\OneDrive - Deloitte (O3...  not_recaptured     0   \n",
       "6  C:\\Users\\arpitasharma2\\OneDrive - Deloitte (O3...  not_recaptured     0   \n",
       "7  C:\\Users\\arpitasharma2\\OneDrive - Deloitte (O3...  not_recaptured     0   \n",
       "8  C:\\Users\\arpitasharma2\\OneDrive - Deloitte (O3...  not_recaptured     0   \n",
       "9  C:\\Users\\arpitasharma2\\OneDrive - Deloitte (O3...  not_recaptured     0   \n",
       "\n",
       "   Recaptured_Probability  \n",
       "0                0.000004  \n",
       "1                0.000027  \n",
       "2                0.000002  \n",
       "3                0.000020  \n",
       "4                0.124099  \n",
       "5                0.000065  \n",
       "6                0.034404  \n",
       "7                0.000284  \n",
       "8                0.000072  \n",
       "9                0.000034  "
      ]
     },
     "metadata": {},
     "output_type": "display_data"
    }
   ],
   "source": [
    "#Save to CSV and display sample\n",
    "\n",
    "df = pd.DataFrame(records)\n",
    "df.to_csv(OUTPUT_CSV, index=False)\n",
    "print(f\"Saved {len(df)} predictions to {OUTPUT_CSV}\\n\")\n",
    "display(df.head(10))"
   ]
  },
  {
   "cell_type": "code",
   "execution_count": null,
   "id": "e4ccbcd0",
   "metadata": {},
   "outputs": [],
   "source": []
  },
  {
   "cell_type": "code",
   "execution_count": 21,
   "id": "00e0e6e4",
   "metadata": {},
   "outputs": [
    {
     "name": "stdout",
     "output_type": "stream",
     "text": [
      "\n",
      " Images have been copied into respective folders:\\yu8/>\"n- C:\\Users\\arpitasharma2\\OneDrive - Deloitte (O365D)\\Desktop\\DIU\\Classification\\flagged_snap\\flag_0_A_tfllite\n",
      "- C:\\Users\\arpitasharma2\\OneDrive - Deloitte (O365D)\\Desktop\\DIU\\Classification\\flagged_snap\\flag_1_A_tflite\n"
     ]
    }
   ],
   "source": [
    "#flag images \n",
    "import shutil\n",
    "import os\n",
    "\n",
    "# Define output folders\n",
    "output_dir = Path(r\"C:\\Users\\arpitasharma2\\OneDrive - Deloitte (O365D)\\Desktop\\DIU\\Classification\\flagged_snap\")\n",
    "flag_0_dir = output_dir / \"flag_0_A_tfllite\"\n",
    "flag_1_dir = output_dir / \"flag_1_A_tflite\"\n",
    "\n",
    "# Create directories if they don't exist\n",
    "flag_0_dir.mkdir(parents=True, exist_ok=True)\n",
    "flag_1_dir.mkdir(parents=True, exist_ok=True)\n",
    "\n",
    "# Copy images to respective folders\n",
    "for _, row in df.iterrows():\n",
    "    src = Path(row['Image'])\n",
    "    dest_dir = flag_1_dir if row['Flag'] == 1 else flag_0_dir\n",
    "    try:\n",
    "        shutil.copy(src, dest_dir)\n",
    "    except Exception as e:\n",
    "        print(f\" Could not copy {src.name} to {dest_dir}: {e}\")\n",
    "\n",
    "print(f\"\\n Images have been copied into respective folders:\\yu8/>\\\"n- {flag_0_dir}\\n- {flag_1_dir}\")\n"
   ]
  },
  {
   "cell_type": "code",
   "execution_count": null,
   "id": "32022da9",
   "metadata": {},
   "outputs": [
    {
     "name": "stdout",
     "output_type": "stream",
     "text": [
      "Total images: 8532\n",
      "\n",
      "Predicted recaptured:     52  (0.61%)\n",
      "Predicted not_recaptured: 8480  (99.39%)\n",
      "\n",
      "Of all recaptured predictions:\n",
      "  • Flag 1 (prob ≥ threshold): 15 (28.85%)\n",
      "  • Flag 0 (prob <  threshold): 37 (71.15%)\n",
      "\n",
      "Of the entire dataset:\n",
      "  • Recaptured & Flag 1: 15 (0.18%)\n",
      "  • Recaptured & Flag 0: 37 (0.43%)\n"
     ]
    }
   ],
   "source": [
    "#Summary statistics\n",
    "total = len(df)\n",
    "\n",
    "# Recaptured vs Not\n",
    "n_rec      = df[\"Class\"].eq(\"recaptured\").sum()\n",
    "n_not_rec  = df[\"Class\"].eq(\"not_recaptured\").sum()\n",
    "pct_rec    = n_rec/total * 100\n",
    "pct_not    = n_not_rec/total * 100\n",
    "\n",
    "# Within recaptured predictions, flag breakdown\n",
    "rec_df     = df[df[\"Class\"] == \"recaptured\"]\n",
    "n_rec_flag1 = rec_df[\"Flag\"].eq(1).sum()\n",
    "n_rec_flag0 = rec_df[\"Flag\"].eq(0).sum()\n",
    "pct_rec_flag1_of_rec = n_rec_flag1 / len(rec_df) * 100 if len(rec_df) else 0\n",
    "pct_rec_flag0_of_rec = n_rec_flag0 / len(rec_df) * 100 if len(rec_df) else 0\n",
    "\n",
    "# Recaptured & flag by total\n",
    "n_rec0_tot = ((df[\"Class\"]==\"recaptured\") & (df[\"Flag\"]==0)).sum()\n",
    "n_rec1_tot = ((df[\"Class\"]==\"recaptured\") & (df[\"Flag\"]==1)).sum()\n",
    "pct_rec0_tot = n_rec0_tot/total * 100\n",
    "pct_rec1_tot = n_rec1_tot/total * 100\n",
    "\n",
    "print(f\"Total images: {total}\\n\")\n",
    "\n",
    "print(f\"Predicted recaptured:     {n_rec}  ({pct_rec:.2f}%)\")\n",
    "print(f\"Predicted not_recaptured: {n_not_rec}  ({pct_not:.2f}%)\\n\")\n",
    "\n",
    "print(f\"Of all recaptured predictions:\")\n",
    "print(f\"  • Flag 1 (prob ≥ threshold): {n_rec_flag1} ({pct_rec_flag1_of_rec:.2f}%)\")\n",
    "print(f\"  • Flag 0 (prob <  threshold): {n_rec_flag0} ({pct_rec_flag0_of_rec:.2f}%)\\n\")\n",
    "\n",
    "print(f\"Of the entire dataset:\")\n",
    "print(f\"  • Recaptured & Flag 1: {n_rec1_tot} ({pct_rec1_tot:.2f}%)\")\n",
    "print(f\"  • Recaptured & Flag 0: {n_rec0_tot} ({pct_rec0_tot:.2f}%)\")\n"
   ]
  },
  {
   "cell_type": "code",
   "execution_count": 23,
   "id": "31da8578",
   "metadata": {},
   "outputs": [
    {
     "name": "stdout",
     "output_type": "stream",
     "text": [
      "Unique true labels:      ['SNAP']\n",
      "Unique predicted labels: ['not_recaptured', 'recaptured']\n",
      "Using these labels for confusion matrix & report: ['SNAP', 'not_recaptured', 'recaptured']\n",
      "\n",
      "Classification Report:\n",
      "\n",
      "                precision    recall  f1-score   support\n",
      "\n",
      "          SNAP       0.00      0.00      0.00    8532.0\n",
      "not_recaptured       0.00      0.00      0.00       0.0\n",
      "    recaptured       0.00      0.00      0.00       0.0\n",
      "\n",
      "      accuracy                           0.00    8532.0\n",
      "     macro avg       0.00      0.00      0.00    8532.0\n",
      "  weighted avg       0.00      0.00      0.00    8532.0\n",
      "\n"
     ]
    },
    {
     "name": "stderr",
     "output_type": "stream",
     "text": [
      "c:\\Users\\arpitasharma2\\AppData\\Local\\anaconda3\\envs\\tflite-env\\lib\\site-packages\\sklearn\\metrics\\_classification.py:1565: UndefinedMetricWarning: Precision is ill-defined and being set to 0.0 in labels with no predicted samples. Use `zero_division` parameter to control this behavior.\n",
      "  _warn_prf(average, modifier, f\"{metric.capitalize()} is\", len(result))\n",
      "c:\\Users\\arpitasharma2\\AppData\\Local\\anaconda3\\envs\\tflite-env\\lib\\site-packages\\sklearn\\metrics\\_classification.py:1565: UndefinedMetricWarning: Recall is ill-defined and being set to 0.0 in labels with no true samples. Use `zero_division` parameter to control this behavior.\n",
      "  _warn_prf(average, modifier, f\"{metric.capitalize()} is\", len(result))\n",
      "c:\\Users\\arpitasharma2\\AppData\\Local\\anaconda3\\envs\\tflite-env\\lib\\site-packages\\sklearn\\metrics\\_classification.py:1565: UndefinedMetricWarning: Precision is ill-defined and being set to 0.0 in labels with no predicted samples. Use `zero_division` parameter to control this behavior.\n",
      "  _warn_prf(average, modifier, f\"{metric.capitalize()} is\", len(result))\n",
      "c:\\Users\\arpitasharma2\\AppData\\Local\\anaconda3\\envs\\tflite-env\\lib\\site-packages\\sklearn\\metrics\\_classification.py:1565: UndefinedMetricWarning: Recall is ill-defined and being set to 0.0 in labels with no true samples. Use `zero_division` parameter to control this behavior.\n",
      "  _warn_prf(average, modifier, f\"{metric.capitalize()} is\", len(result))\n",
      "c:\\Users\\arpitasharma2\\AppData\\Local\\anaconda3\\envs\\tflite-env\\lib\\site-packages\\sklearn\\metrics\\_classification.py:1565: UndefinedMetricWarning: Precision is ill-defined and being set to 0.0 in labels with no predicted samples. Use `zero_division` parameter to control this behavior.\n",
      "  _warn_prf(average, modifier, f\"{metric.capitalize()} is\", len(result))\n",
      "c:\\Users\\arpitasharma2\\AppData\\Local\\anaconda3\\envs\\tflite-env\\lib\\site-packages\\sklearn\\metrics\\_classification.py:1565: UndefinedMetricWarning: Recall is ill-defined and being set to 0.0 in labels with no true samples. Use `zero_division` parameter to control this behavior.\n",
      "  _warn_prf(average, modifier, f\"{metric.capitalize()} is\", len(result))\n"
     ]
    },
    {
     "data": {
      "image/png": "[encoded data removed]",
      "text/plain": [
       "<Figure size 600x600 with 2 Axes>"
      ]
     },
     "metadata": {},
     "output_type": "display_data"
    },
    {
     "name": "stderr",
     "output_type": "stream",
     "text": [
      "c:\\Users\\arpitasharma2\\AppData\\Local\\anaconda3\\envs\\tflite-env\\lib\\site-packages\\sklearn\\metrics\\_classification.py:1565: UndefinedMetricWarning: Precision is ill-defined and being set to 0.0 in labels with no predicted samples. Use `zero_division` parameter to control this behavior.\n",
      "  _warn_prf(average, modifier, f\"{metric.capitalize()} is\", len(result))\n",
      "c:\\Users\\arpitasharma2\\AppData\\Local\\anaconda3\\envs\\tflite-env\\lib\\site-packages\\sklearn\\metrics\\_classification.py:1565: UndefinedMetricWarning: Recall is ill-defined and being set to 0.0 in labels with no true samples. Use `zero_division` parameter to control this behavior.\n",
      "  _warn_prf(average, modifier, f\"{metric.capitalize()} is\", len(result))\n",
      "c:\\Users\\arpitasharma2\\AppData\\Local\\anaconda3\\envs\\tflite-env\\lib\\site-packages\\sklearn\\metrics\\_classification.py:1565: UndefinedMetricWarning: Precision is ill-defined and being set to 0.0 in labels with no predicted samples. Use `zero_division` parameter to control this behavior.\n",
      "  _warn_prf(average, modifier, f\"{metric.capitalize()} is\", len(result))\n",
      "c:\\Users\\arpitasharma2\\AppData\\Local\\anaconda3\\envs\\tflite-env\\lib\\site-packages\\sklearn\\metrics\\_classification.py:1565: UndefinedMetricWarning: Recall is ill-defined and being set to 0.0 in labels with no true samples. Use `zero_division` parameter to control this behavior.\n",
      "  _warn_prf(average, modifier, f\"{metric.capitalize()} is\", len(result))\n",
      "c:\\Users\\arpitasharma2\\AppData\\Local\\anaconda3\\envs\\tflite-env\\lib\\site-packages\\sklearn\\metrics\\_classification.py:1565: UndefinedMetricWarning: Precision is ill-defined and being set to 0.0 in labels with no predicted samples. Use `zero_division` parameter to control this behavior.\n",
      "  _warn_prf(average, modifier, f\"{metric.capitalize()} is\", len(result))\n",
      "c:\\Users\\arpitasharma2\\AppData\\Local\\anaconda3\\envs\\tflite-env\\lib\\site-packages\\sklearn\\metrics\\_classification.py:1565: UndefinedMetricWarning: Recall is ill-defined and being set to 0.0 in labels with no true samples. Use `zero_division` parameter to control this behavior.\n",
      "  _warn_prf(average, modifier, f\"{metric.capitalize()} is\", len(result))\n"
     ]
    }
   ],
   "source": [
    "from sklearn.metrics import confusion_matrix, classification_report\n",
    "import matplotlib.pyplot as plt\n",
    "\n",
    "df[\"TrueLabel\"] = df[\"Image\"].apply(lambda s: Path(s).parent.name)\n",
    "\n",
    "# --- Inspect what labels we actually have ---\n",
    "unique_true = sorted(df[\"TrueLabel\"].unique())\n",
    "unique_pred = sorted(df[\"Class\"].   unique())\n",
    "print(\"Unique true labels:     \", unique_true)\n",
    "print(\"Unique predicted labels:\", unique_pred)\n",
    "\n",
    "# --- Build label list for metrics ---\n",
    "labels = sorted(set(unique_true) | set(unique_pred))\n",
    "print(\"Using these labels for confusion matrix & report:\", labels)\n",
    "\n",
    "# --- Compute metrics ---\n",
    "y_true = df[\"TrueLabel\"].values\n",
    "y_pred = df[\"Class\"].     values\n",
    "cm     = confusion_matrix(y_true, y_pred, labels=labels)\n",
    "\n",
    "print(\"\\nClassification Report:\\n\")\n",
    "print(classification_report(y_true, y_pred, labels=labels, target_names=labels))\n",
    "\n",
    "# --- Plot confusion matrix ---\n",
    "fig, ax = plt.subplots(figsize=(6,6))\n",
    "im = ax.imshow(cm, interpolation='nearest', cmap=plt.cm.Blues)\n",
    "ax.figure.colorbar(im, ax=ax)\n",
    "\n",
    "ax.set(\n",
    "    xticks=np.arange(len(labels)),\n",
    "    yticks=np.arange(len(labels)),\n",
    "    xticklabels=labels, yticklabels=labels,\n",
    "    xlabel='Predicted label',\n",
    "    ylabel='True label',\n",
    "    title='Confusion Matrix'\n",
    ")\n",
    "plt.setp(ax.get_xticklabels(), rotation=45, ha=\"right\")\n",
    "\n",
    "thresh = cm.max() / 2.0\n",
    "for i in range(len(labels)):\n",
    "    for j in range(len(labels)):\n",
    "        ax.text(j, i, cm[i,j], ha=\"center\",\n",
    "                va=\"center\",\n",
    "                color=\"white\" if cm[i,j] > thresh else \"black\")\n",
    "\n",
    "plt.tight_layout()\n",
    "plt.show()\n",
    "\n",
    "# --- (Optional) Save out the matrix/report ---\n",
    "pd.DataFrame(cm, index=labels, columns=labels) \\\n",
    "  .to_csv(\"confusion_matrix.csv\")\n",
    "with open(\"classification_report.txt\", \"w\") as f:\n",
    "    f.write(classification_report(y_true, y_pred, labels=labels, target_names=labels))"
   ]
  },
  {
   "cell_type": "code",
   "execution_count": null,
   "id": "2ae8869f",
   "metadata": {},
   "outputs": [
    {
     "name": "stdout",
     "output_type": "stream",
     "text": [
      "\n",
      "Total images: 8532\n",
      "\n",
      "not_recaptured : 8480 images   ( 99.4%)\n",
      "recaptured     :   52 images   (  0.6%)\n"
     ]
    }
   ],
   "source": [
    "#Class‐level summary: counts + percentage\n",
    "total = len(df)\n",
    "counts = df[\"Class\"].value_counts().reindex(CLASS_NAMES, fill_value=0)\n",
    "percents = counts / total * 100\n",
    "\n",
    "print(f\"\\nTotal images: {total}\\n\")\n",
    "for cls in CLASS_NAMES:\n",
    "    cnt = counts[cls]\n",
    "    pct = percents[cls]\n",
    "    print(f\"{cls:15s}: {cnt:4d} images   ({pct:5.1f}%)\")\n",
    "\n",
    "# --- (then continue onto adding true labels, metrics, plotting, etc.) ---\n",
    "df[\"TrueLabel\"] = df[\"Image\"].apply(lambda p: Path(p).parent.name)\n"
   ]
  }
 ],
 "metadata": {
  "kernelspec": {
   "display_name": "tflite-env",
   "language": "python",
   "name": "python3"
  },
  "language_info": {
   "codemirror_mode": {
    "name": "ipython",
    "version": 3
   },
   "file_extension": ".py",
   "mimetype": "text/x-python",
   "name": "python",
   "nbconvert_exporter": "python",
   "pygments_lexer": "ipython3",
   "version": "3.9.21"
  }
 },
 "nbformat": 4,
 "nbformat_minor": 5
}
